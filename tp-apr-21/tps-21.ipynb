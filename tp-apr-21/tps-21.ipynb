{
 "cells": [
  {
   "cell_type": "markdown",
   "id": "sustainable-sampling",
   "metadata": {},
   "source": [
    "# Tabular Playground Series - Apr 2021"
   ]
  },
  {
   "cell_type": "code",
   "execution_count": 1,
   "id": "affiliated-facial",
   "metadata": {},
   "outputs": [],
   "source": [
    "import numpy as np\n",
    "import pandas as pd\n",
    "\n",
    "from sklearn.model_selection import train_test_split\n",
    "from sklearn.preprocessing import OneHotEncoder, StandardScaler\n",
    "from sklearn.pipeline import Pipeline\n",
    "from sklearn.impute import SimpleImputer\n",
    "from sklearn.compose import ColumnTransformer\n",
    "from sklearn.utils import shuffle\n",
    "from sklearn.metrics import accuracy_score\n",
    "from sklearn.model_selection import GridSearchCV\n",
    "\n",
    "from xgboost import XGBClassifier"
   ]
  },
  {
   "cell_type": "code",
   "execution_count": 2,
   "id": "nonprofit-seating",
   "metadata": {},
   "outputs": [],
   "source": [
    "train_dataset = pd.read_csv('train.csv')\n",
    "\n",
    "X = train_dataset[['Pclass','Age','Sex','SibSp','Parch','Fare', 'Cabin','Embarked']]\n",
    "y = train_dataset['Survived']"
   ]
  },
  {
   "cell_type": "code",
   "execution_count": 3,
   "id": "julian-judge",
   "metadata": {},
   "outputs": [],
   "source": [
    "def preprocess_data(X):\n",
    "   \n",
    "    categorical_cols = ['Age', 'Pclass', 'Sex', 'Cabin', 'Fare', 'Fam_Size', 'Embarked']\n",
    "    \n",
    "    X['Age'] = pd.cut(X['Age'], [0, 10, 20, 30, 40, 50, 60, 70, 80], labels=['0-10', '10-20', '20-30', '30-40', '40-50', '50-60', '60-70', '70-80'])\n",
    "    X['Fare'] = pd.cut(X['Fare'], [0, 7.27, 8.62, 9.76, 10.96, 30.77, 35.32, 72.912, 126.902, 744.66], labels=['0-7.27', '7.27-8.62', '8.62-9.76', '9.76-10.96', '10.96-30.77', '30.77-35.32', '35.32-72.912','72.912-126.902', '126.902-744.66'])\n",
    "    X['Fam_Size'] = X['SibSp'] + X['Parch'] + 1\n",
    "    X['Fam_Size'] = pd.cut(X['Fam_Size'], [0, 1, 4, 7, 12, 18], labels=['Alone', 'Small', 'Medium', 'Large', 'Very Large'])\n",
    "    X = X.drop(['SibSp', 'Parch'], axis=1)\n",
    "    X['Cabin'] = X['Cabin'].replace('[ABCT].+', value = 'ABC', regex = True)\n",
    "    X['Cabin'] = X['Cabin'].replace('[DE].+', value = 'DE', regex = True)\n",
    "    X['Cabin'] = X['Cabin'].replace('[FG].+', value = 'FG', regex = True)\n",
    "    X['Cabin'] = X['Cabin'].replace(np.nan, value = 'N', regex = True)\n",
    "    \n",
    "    cat_pipeline = Pipeline([\n",
    "        ('imputer', SimpleImputer(strategy='most_frequent'))\n",
    "    ])\n",
    "\n",
    "    full_pipeline = ColumnTransformer([\n",
    "        ('cat', cat_pipeline, categorical_cols)\n",
    "    ])\n",
    "\n",
    "    X = pd.DataFrame(full_pipeline.fit_transform(X))\n",
    "\n",
    "    encoder = OneHotEncoder(handle_unknown='ignore', sparse=False)\n",
    "    encoder.fit(X)\n",
    "    X = encoder.transform(X)\n",
    "    \n",
    "    return X"
   ]
  },
  {
   "cell_type": "code",
   "execution_count": 5,
   "id": "secondary-sierra",
   "metadata": {},
   "outputs": [],
   "source": [
    "X = preprocess_data(X)"
   ]
  },
  {
   "cell_type": "code",
   "execution_count": 6,
   "id": "classical-microwave",
   "metadata": {},
   "outputs": [],
   "source": [
    "X, y = shuffle(X, y, random_state=0)\n",
    "X_train, X_test, y_train, y_test = train_test_split(X, y, test_size=0.1, random_state=42)"
   ]
  },
  {
   "cell_type": "code",
   "execution_count": 7,
   "id": "extensive-surge",
   "metadata": {},
   "outputs": [],
   "source": [
    "sub_dataset = pd.read_csv('test.csv')\n",
    "\n",
    "X_sub = sub_dataset[['Pclass','Age','Sex','SibSp','Parch','Cabin','Fare','Embarked']]\n",
    "submission_index = sub_dataset['PassengerId']\n",
    "\n",
    "X_sub = preprocess_data(X_sub)"
   ]
  },
  {
   "cell_type": "code",
   "execution_count": 8,
   "id": "polyphonic-easter",
   "metadata": {},
   "outputs": [
    {
     "name": "stdout",
     "output_type": "stream",
     "text": [
      "[01:26:06] WARNING: /tmp/pip-install-e575mnq2/xgboost/build/temp.linux-x86_64-3.7/xgboost/src/learner.cc:1095: Starting in XGBoost 1.3.0, the default evaluation metric used with the objective 'binary:logistic' was changed from 'error' to 'logloss'. Explicitly set eval_metric if you'd like to restore the old behavior.\n",
      "[0]\tvalidation_0-logloss:0.68956\n",
      "[5]\tvalidation_0-logloss:0.67266\n",
      "[10]\tvalidation_0-logloss:0.65732\n",
      "[15]\tvalidation_0-logloss:0.64338\n",
      "[20]\tvalidation_0-logloss:0.63068\n",
      "[25]\tvalidation_0-logloss:0.61909\n",
      "[30]\tvalidation_0-logloss:0.60849\n",
      "[35]\tvalidation_0-logloss:0.59878\n",
      "[40]\tvalidation_0-logloss:0.58987\n",
      "[45]\tvalidation_0-logloss:0.58170\n",
      "[50]\tvalidation_0-logloss:0.57421\n",
      "[55]\tvalidation_0-logloss:0.56732\n",
      "[60]\tvalidation_0-logloss:0.56099\n",
      "[65]\tvalidation_0-logloss:0.55516\n",
      "[70]\tvalidation_0-logloss:0.54978\n",
      "[75]\tvalidation_0-logloss:0.54481\n",
      "[80]\tvalidation_0-logloss:0.54029\n",
      "[85]\tvalidation_0-logloss:0.53611\n",
      "[90]\tvalidation_0-logloss:0.53225\n",
      "[95]\tvalidation_0-logloss:0.52868\n",
      "[100]\tvalidation_0-logloss:0.52541\n",
      "[105]\tvalidation_0-logloss:0.52240\n",
      "[110]\tvalidation_0-logloss:0.51964\n",
      "[115]\tvalidation_0-logloss:0.51707\n",
      "[120]\tvalidation_0-logloss:0.51470\n",
      "[125]\tvalidation_0-logloss:0.51250\n",
      "[130]\tvalidation_0-logloss:0.51049\n",
      "[135]\tvalidation_0-logloss:0.50863\n",
      "[140]\tvalidation_0-logloss:0.50692\n",
      "[145]\tvalidation_0-logloss:0.50535\n",
      "[150]\tvalidation_0-logloss:0.50389\n",
      "[155]\tvalidation_0-logloss:0.50256\n",
      "[160]\tvalidation_0-logloss:0.50131\n",
      "[165]\tvalidation_0-logloss:0.50017\n",
      "[170]\tvalidation_0-logloss:0.49909\n",
      "[175]\tvalidation_0-logloss:0.49809\n",
      "[180]\tvalidation_0-logloss:0.49717\n",
      "[185]\tvalidation_0-logloss:0.49632\n",
      "[190]\tvalidation_0-logloss:0.49553\n",
      "[195]\tvalidation_0-logloss:0.49480\n",
      "[200]\tvalidation_0-logloss:0.49413\n",
      "[205]\tvalidation_0-logloss:0.49353\n",
      "[210]\tvalidation_0-logloss:0.49296\n",
      "[215]\tvalidation_0-logloss:0.49244\n",
      "[220]\tvalidation_0-logloss:0.49194\n",
      "[225]\tvalidation_0-logloss:0.49148\n",
      "[230]\tvalidation_0-logloss:0.49105\n",
      "[235]\tvalidation_0-logloss:0.49066\n",
      "[240]\tvalidation_0-logloss:0.49027\n",
      "[245]\tvalidation_0-logloss:0.48993\n",
      "[250]\tvalidation_0-logloss:0.48960\n",
      "[255]\tvalidation_0-logloss:0.48928\n",
      "[260]\tvalidation_0-logloss:0.48899\n",
      "[265]\tvalidation_0-logloss:0.48873\n",
      "[270]\tvalidation_0-logloss:0.48849\n",
      "[275]\tvalidation_0-logloss:0.48827\n",
      "[280]\tvalidation_0-logloss:0.48807\n",
      "[285]\tvalidation_0-logloss:0.48789\n",
      "[290]\tvalidation_0-logloss:0.48772\n",
      "[295]\tvalidation_0-logloss:0.48756\n",
      "[300]\tvalidation_0-logloss:0.48742\n",
      "[305]\tvalidation_0-logloss:0.48728\n",
      "[310]\tvalidation_0-logloss:0.48714\n",
      "[315]\tvalidation_0-logloss:0.48703\n",
      "[320]\tvalidation_0-logloss:0.48692\n",
      "[325]\tvalidation_0-logloss:0.48683\n",
      "[330]\tvalidation_0-logloss:0.48673\n",
      "[335]\tvalidation_0-logloss:0.48665\n",
      "[340]\tvalidation_0-logloss:0.48657\n",
      "[345]\tvalidation_0-logloss:0.48651\n",
      "[350]\tvalidation_0-logloss:0.48644\n",
      "[355]\tvalidation_0-logloss:0.48637\n",
      "[360]\tvalidation_0-logloss:0.48631\n",
      "[365]\tvalidation_0-logloss:0.48625\n",
      "[370]\tvalidation_0-logloss:0.48619\n",
      "[375]\tvalidation_0-logloss:0.48614\n",
      "[380]\tvalidation_0-logloss:0.48608\n",
      "[385]\tvalidation_0-logloss:0.48601\n",
      "[390]\tvalidation_0-logloss:0.48594\n",
      "[395]\tvalidation_0-logloss:0.48587\n",
      "[400]\tvalidation_0-logloss:0.48581\n",
      "[405]\tvalidation_0-logloss:0.48575\n",
      "[410]\tvalidation_0-logloss:0.48569\n",
      "[415]\tvalidation_0-logloss:0.48564\n",
      "[420]\tvalidation_0-logloss:0.48560\n",
      "[425]\tvalidation_0-logloss:0.48556\n",
      "[430]\tvalidation_0-logloss:0.48552\n",
      "[435]\tvalidation_0-logloss:0.48549\n",
      "[440]\tvalidation_0-logloss:0.48547\n",
      "[445]\tvalidation_0-logloss:0.48545\n",
      "[450]\tvalidation_0-logloss:0.48542\n",
      "[455]\tvalidation_0-logloss:0.48540\n",
      "[460]\tvalidation_0-logloss:0.48538\n",
      "[465]\tvalidation_0-logloss:0.48537\n",
      "[470]\tvalidation_0-logloss:0.48536\n",
      "[475]\tvalidation_0-logloss:0.48534\n",
      "[480]\tvalidation_0-logloss:0.48533\n",
      "[485]\tvalidation_0-logloss:0.48532\n",
      "[490]\tvalidation_0-logloss:0.48530\n",
      "[495]\tvalidation_0-logloss:0.48528\n",
      "[499]\tvalidation_0-logloss:0.48527\n"
     ]
    },
    {
     "data": {
      "text/plain": [
       "XGBClassifier(base_score=0.5, booster='gbtree', colsample_bylevel=1,\n",
       "              colsample_bynode=1, colsample_bytree=1, gamma=0, gpu_id=-1,\n",
       "              importance_type='gain', interaction_constraints='',\n",
       "              learning_rate=0.01, max_delta_step=0, max_depth=6,\n",
       "              min_child_weight=1, missing=nan, monotone_constraints='()',\n",
       "              n_estimators=500, n_jobs=-1, num_parallel_tree=1, random_state=0,\n",
       "              reg_alpha=0, reg_lambda=1, scale_pos_weight=1, subsample=1,\n",
       "              tree_method='exact', use_label_encoder=False,\n",
       "              validate_parameters=1, verbosity=None)"
      ]
     },
     "execution_count": 8,
     "metadata": {},
     "output_type": "execute_result"
    }
   ],
   "source": [
    "xgb_model = XGBClassifier(objective='binary:logistic', use_label_encoder=False,\n",
    "                         learning_rate=0.01, n_jobs=-1,\n",
    "                         n_estimators=500, max_depth=6)\n",
    "\n",
    "xgb_model.fit(X_train, y_train,\n",
    "             early_stopping_rounds=3,\n",
    "              eval_set=[(X_test, y_test)],\n",
    "             verbose=5)"
   ]
  },
  {
   "cell_type": "code",
   "execution_count": 9,
   "id": "sealed-yeast",
   "metadata": {},
   "outputs": [
    {
     "data": {
      "text/plain": [
       "0.771"
      ]
     },
     "execution_count": 9,
     "metadata": {},
     "output_type": "execute_result"
    }
   ],
   "source": [
    "y_pred = xgb_model.predict(X_test)\n",
    "accuracy_score(y_test, y_pred)"
   ]
  },
  {
   "cell_type": "code",
   "execution_count": 10,
   "id": "whole-infection",
   "metadata": {},
   "outputs": [
    {
     "data": {
      "text/plain": [
       "array([0, 0, 1, ..., 0, 1, 1])"
      ]
     },
     "execution_count": 10,
     "metadata": {},
     "output_type": "execute_result"
    }
   ],
   "source": [
    "y_sub = xgb_model.predict(X_sub)\n",
    "y_sub"
   ]
  },
  {
   "cell_type": "code",
   "execution_count": 11,
   "id": "efficient-suffering",
   "metadata": {},
   "outputs": [],
   "source": [
    "submission_index = pd.DataFrame(submission_index, dtype=np.int64)\n",
    "y_sub = pd.DataFrame(y_sub, columns=['Survived'], dtype=np.int8)"
   ]
  },
  {
   "cell_type": "code",
   "execution_count": 12,
   "id": "danish-treasure",
   "metadata": {},
   "outputs": [
    {
     "data": {
      "text/html": [
       "<div>\n",
       "<style scoped>\n",
       "    .dataframe tbody tr th:only-of-type {\n",
       "        vertical-align: middle;\n",
       "    }\n",
       "\n",
       "    .dataframe tbody tr th {\n",
       "        vertical-align: top;\n",
       "    }\n",
       "\n",
       "    .dataframe thead th {\n",
       "        text-align: right;\n",
       "    }\n",
       "</style>\n",
       "<table border=\"1\" class=\"dataframe\">\n",
       "  <thead>\n",
       "    <tr style=\"text-align: right;\">\n",
       "      <th></th>\n",
       "      <th>PassengerId</th>\n",
       "      <th>Survived</th>\n",
       "    </tr>\n",
       "  </thead>\n",
       "  <tbody>\n",
       "    <tr>\n",
       "      <th>0</th>\n",
       "      <td>100000</td>\n",
       "      <td>0</td>\n",
       "    </tr>\n",
       "    <tr>\n",
       "      <th>1</th>\n",
       "      <td>100001</td>\n",
       "      <td>0</td>\n",
       "    </tr>\n",
       "    <tr>\n",
       "      <th>2</th>\n",
       "      <td>100002</td>\n",
       "      <td>1</td>\n",
       "    </tr>\n",
       "    <tr>\n",
       "      <th>3</th>\n",
       "      <td>100003</td>\n",
       "      <td>0</td>\n",
       "    </tr>\n",
       "    <tr>\n",
       "      <th>4</th>\n",
       "      <td>100004</td>\n",
       "      <td>1</td>\n",
       "    </tr>\n",
       "    <tr>\n",
       "      <th>...</th>\n",
       "      <td>...</td>\n",
       "      <td>...</td>\n",
       "    </tr>\n",
       "    <tr>\n",
       "      <th>99995</th>\n",
       "      <td>199995</td>\n",
       "      <td>1</td>\n",
       "    </tr>\n",
       "    <tr>\n",
       "      <th>99996</th>\n",
       "      <td>199996</td>\n",
       "      <td>0</td>\n",
       "    </tr>\n",
       "    <tr>\n",
       "      <th>99997</th>\n",
       "      <td>199997</td>\n",
       "      <td>0</td>\n",
       "    </tr>\n",
       "    <tr>\n",
       "      <th>99998</th>\n",
       "      <td>199998</td>\n",
       "      <td>1</td>\n",
       "    </tr>\n",
       "    <tr>\n",
       "      <th>99999</th>\n",
       "      <td>199999</td>\n",
       "      <td>1</td>\n",
       "    </tr>\n",
       "  </tbody>\n",
       "</table>\n",
       "<p>100000 rows × 2 columns</p>\n",
       "</div>"
      ],
      "text/plain": [
       "       PassengerId  Survived\n",
       "0           100000         0\n",
       "1           100001         0\n",
       "2           100002         1\n",
       "3           100003         0\n",
       "4           100004         1\n",
       "...            ...       ...\n",
       "99995       199995         1\n",
       "99996       199996         0\n",
       "99997       199997         0\n",
       "99998       199998         1\n",
       "99999       199999         1\n",
       "\n",
       "[100000 rows x 2 columns]"
      ]
     },
     "execution_count": 12,
     "metadata": {},
     "output_type": "execute_result"
    }
   ],
   "source": [
    "submission_data = pd.concat([submission_index,y_sub], axis=1)\n",
    "submission_data"
   ]
  },
  {
   "cell_type": "code",
   "execution_count": null,
   "id": "aggregate-henry",
   "metadata": {},
   "outputs": [],
   "source": [
    "submission_data.to_csv('submission.csv', index=False)"
   ]
  },
  {
   "cell_type": "code",
   "execution_count": null,
   "id": "medical-trinidad",
   "metadata": {},
   "outputs": [],
   "source": []
  }
 ],
 "metadata": {
  "kernelspec": {
   "display_name": "Python 3",
   "language": "python",
   "name": "python3"
  },
  "language_info": {
   "codemirror_mode": {
    "name": "ipython",
    "version": 3
   },
   "file_extension": ".py",
   "mimetype": "text/x-python",
   "name": "python",
   "nbconvert_exporter": "python",
   "pygments_lexer": "ipython3",
   "version": "3.7.3"
  }
 },
 "nbformat": 4,
 "nbformat_minor": 5
}
